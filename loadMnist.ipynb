{
  "nbformat": 4,
  "nbformat_minor": 0,
  "metadata": {
    "colab": {
      "provenance": [],
      "authorship_tag": "ABX9TyMgpBjhhaE4226e2y4wNtAk",
      "include_colab_link": true
    },
    "kernelspec": {
      "name": "python3",
      "display_name": "Python 3"
    },
    "language_info": {
      "name": "python"
    }
  },
  "cells": [
    {
      "cell_type": "markdown",
      "metadata": {
        "id": "view-in-github",
        "colab_type": "text"
      },
      "source": [
        "<a href=\"https://colab.research.google.com/github/arifemredemir/Machine-Learning/blob/main/loadMnist.ipynb\" target=\"_parent\"><img src=\"https://colab.research.google.com/assets/colab-badge.svg\" alt=\"Open In Colab\"/></a>"
      ]
    },
    {
      "cell_type": "code",
      "execution_count": null,
      "metadata": {
        "id": "_85TtpdYBzxr"
      },
      "outputs": [],
      "source": [
        "from keras.datasets import mnist\n",
        "\n",
        "(train_A,train_B),(test_A,test_B)=mnist.load_data()"
      ]
    },
    {
      "cell_type": "markdown",
      "source": [
        "![image.png](data:image/png;base64,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)"
      ],
      "metadata": {
        "id": "YGNyMZNaFu6E"
      }
    },
    {
      "cell_type": "code",
      "source": [
        "train_B.shape"
      ],
      "metadata": {
        "colab": {
          "base_uri": "https://localhost:8080/"
        },
        "id": "mrrnfDW-COuW",
        "outputId": "9749a6ac-ad99-4dc9-f137-90dda136b2d3"
      },
      "execution_count": null,
      "outputs": [
        {
          "output_type": "execute_result",
          "data": {
            "text/plain": [
              "(60000,)"
            ]
          },
          "metadata": {},
          "execution_count": 8
        }
      ]
    },
    {
      "cell_type": "code",
      "source": [
        "train_A.shape"
      ],
      "metadata": {
        "colab": {
          "base_uri": "https://localhost:8080/"
        },
        "id": "1jiGtDxbCSaq",
        "outputId": "3d553756-29f4-4361-a716-d1ae853a24b8"
      },
      "execution_count": null,
      "outputs": [
        {
          "output_type": "execute_result",
          "data": {
            "text/plain": [
              "(60000, 28, 28)"
            ]
          },
          "metadata": {},
          "execution_count": 5
        }
      ]
    },
    {
      "cell_type": "code",
      "source": [
        "test_A.shape"
      ],
      "metadata": {
        "colab": {
          "base_uri": "https://localhost:8080/"
        },
        "id": "Kk5h9uKvCTue",
        "outputId": "146d44cc-ab55-4b82-bc10-59c799ba2cf6"
      },
      "execution_count": null,
      "outputs": [
        {
          "output_type": "execute_result",
          "data": {
            "text/plain": [
              "(10000, 28, 28)"
            ]
          },
          "metadata": {},
          "execution_count": 7
        }
      ]
    },
    {
      "cell_type": "code",
      "source": [
        "import matplotlib.pyplot as plt\n",
        "\n",
        "data=train_A[2]\n",
        "\n",
        "plt.imshow(data)\n"
      ],
      "metadata": {
        "colab": {
          "base_uri": "https://localhost:8080/",
          "height": 282
        },
        "id": "ZY3UdhB1CbIA",
        "outputId": "bc01663a-0588-40ac-bfb0-dda139fb2074"
      },
      "execution_count": null,
      "outputs": [
        {
          "output_type": "execute_result",
          "data": {
            "text/plain": [
              "<matplotlib.image.AxesImage at 0x7fb5d570e450>"
            ]
          },
          "metadata": {},
          "execution_count": 12
        },
        {
          "output_type": "display_data",
          "data": {
            "text/plain": [
              "<Figure size 432x288 with 1 Axes>"
            ],
            "image/png": "[encoded data removed]"
          },
          "metadata": {
            "needs_background": "light"
          }
        }
      ]
    },
    {
      "cell_type": "code",
      "source": [
        "myArray=train_A[:70]\n",
        "myArray.shape"
      ],
      "metadata": {
        "colab": {
          "base_uri": "https://localhost:8080/"
        },
        "id": "CHVCijsODed1",
        "outputId": "3cd098c2-adec-4fd0-998c-76beb154f8bf"
      },
      "execution_count": null,
      "outputs": [
        {
          "output_type": "execute_result",
          "data": {
            "text/plain": [
              "(70, 28, 28)"
            ]
          },
          "metadata": {},
          "execution_count": 15
        }
      ]
    },
    {
      "cell_type": "code",
      "source": [
        "#Split data:\n",
        "myArray=train_A[:100,:14,:14]\n",
        "myArray.shape"
      ],
      "metadata": {
        "colab": {
          "base_uri": "https://localhost:8080/"
        },
        "id": "_s6KjP3ODoRv",
        "outputId": "3b959a0d-5d5e-4a18-e377-5753093983aa"
      },
      "execution_count": null,
      "outputs": [
        {
          "output_type": "execute_result",
          "data": {
            "text/plain": [
              "(100, 14, 14)"
            ]
          },
          "metadata": {},
          "execution_count": 16
        }
      ]
    },
    {
      "cell_type": "markdown",
      "source": [
        "**MATHS OPERATİONS:**"
      ],
      "metadata": {
        "id": "o-xH_LUOVmff"
      }
    },
    {
      "cell_type": "code",
      "source": [
        "import numpy as np\n",
        "\n",
        "x= np.array(range(1,10)).reshape(3,3)\n",
        "y=np.array(range(5,14)).reshape(3,3)  \n",
        "\n",
        "print(f\"x:\\n{x} \\ny:\\n{y}\")"
      ],
      "metadata": {
        "colab": {
          "base_uri": "https://localhost:8080/"
        },
        "id": "gv_VsCoOTrbj",
        "outputId": "9ebd5e1b-f485-4f7f-d475-b96676258703"
      },
      "execution_count": null,
      "outputs": [
        {
          "output_type": "stream",
          "name": "stdout",
          "text": [
            "x:\n",
            "[[1 2 3]\n",
            " [4 5 6]\n",
            " [7 8 9]] \n",
            "y:\n",
            "[[ 5  6  7]\n",
            " [ 8  9 10]\n",
            " [11 12 13]]\n"
          ]
        }
      ]
    },
    {
      "cell_type": "code",
      "source": [
        "z=x+y\n",
        "z"
      ],
      "metadata": {
        "colab": {
          "base_uri": "https://localhost:8080/"
        },
        "id": "jQEvQQIBU7OK",
        "outputId": "ec41e196-c27b-4d09-b8f9-c54b463e81e9"
      },
      "execution_count": null,
      "outputs": [
        {
          "output_type": "execute_result",
          "data": {
            "text/plain": [
              "array([[ 6,  8, 10],\n",
              "       [12, 14, 16],\n",
              "       [18, 20, 22]])"
            ]
          },
          "metadata": {},
          "execution_count": 33
        }
      ]
    },
    {
      "cell_type": "code",
      "source": [
        "np.maximum(x,0.)"
      ],
      "metadata": {
        "colab": {
          "base_uri": "https://localhost:8080/"
        },
        "id": "E-kNVD5cVa0J",
        "outputId": "5b062e2d-68ea-4b37-bcb6-3774a5cf3b32"
      },
      "execution_count": null,
      "outputs": [
        {
          "output_type": "execute_result",
          "data": {
            "text/plain": [
              "array([[1., 2., 3.],\n",
              "       [4., 5., 6.],\n",
              "       [7., 8., 9.]])"
            ]
          },
          "metadata": {},
          "execution_count": 35
        }
      ]
    },
    {
      "cell_type": "markdown",
      "source": [
        "**SPREADİNG DATAS:**"
      ],
      "metadata": {
        "id": "vuccLzaXVwWa"
      }
    },
    {
      "cell_type": "code",
      "source": [],
      "metadata": {
        "id": "BYYDmCDAWx5V"
      },
      "execution_count": null,
      "outputs": []
    },
    {
      "cell_type": "code",
      "source": [
        "\n"
      ],
      "metadata": {
        "id": "Y3RoZIC6VyQd"
      },
      "execution_count": null,
      "outputs": []
    }
  ]
}